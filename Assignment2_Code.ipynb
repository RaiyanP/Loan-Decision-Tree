{
  "nbformat": 4,
  "nbformat_minor": 0,
  "metadata": {
    "colab": {
      "provenance": []
    },
    "kernelspec": {
      "name": "python3",
      "display_name": "Python 3"
    },
    "language_info": {
      "name": "python"
    }
  },
  "cells": [
    {
      "cell_type": "code",
      "execution_count": null,
      "metadata": {
        "id": "uNKLhdA2X0AD"
      },
      "outputs": [],
      "source": [
        "import pandas as pd\n",
        "Data = pd.read_csv('CreditData.csv')\n",
        "Data"
      ]
    },
    {
      "cell_type": "code",
      "source": [
        "Data.dtypes"
      ],
      "metadata": {
        "id": "0QdUwEKgewMc"
      },
      "execution_count": null,
      "outputs": []
    },
    {
      "cell_type": "code",
      "source": [
        "#Convert Categorical Columns using Ordinal\n",
        "print('uniue values of the target attribute (Approved):', Data.Approved.unique())\n",
        "Data['Approved_val'] = Data['Approved']\n",
        "Data['Approved_val'] = Data['Approved_val'].map({'Yes': 1, 'No': 0})\n",
        "Data['foreign_val'] = Data['foreign']\n",
        "Data['foreign_val'] = Data['foreign_val'].map({'A201': 1, 'A202': 0})\n",
        "Data['Telephone_val'] = Data['Telephone']\n",
        "Data['Telephone_val'] = Data['Telephone_val'].map({'A192': 1, 'A191': 0})\n",
        "Data['Job_val'] = Data['Job']\n",
        "Data['Job_val'] = Data['Job_val'].map({'A174': 3, 'A173': 2,'A172': 1,'A171': 0})\n",
        "Data['Housing_val'] = Data['Housing']\n",
        "Data['Housing_val'] = Data['Housing_val'].map({'A153': 2,'A152': 1,'A151': 0})\n",
        "Data['Status_val'] = Data['Status']\n",
        "Data['Status_val'] = Data['Status_val'].map({'A13': 3,'A12': 2,'A11': 1,'A14': 0})\n",
        "Data['Savings_val'] = Data['Savings']\n",
        "Data['Savings_val'] = Data['Savings_val'].map({'A64': 4,'A63': 3,'A62': 2,'A61': 1,'A65': 0})\n",
        "Data['employment_val'] = Data['employment']\n",
        "Data['employment_val'] = Data['employment_val'].map({'A75': 4,'A74': 3,'A73': 2,'A72': 1,'A71': 0})"
      ],
      "metadata": {
        "colab": {
          "base_uri": "https://localhost:8080/"
        },
        "id": "4onkhyIBhFBW",
        "outputId": "fc0d70b7-a2a0-4679-e471-ebfd9a3055c4"
      },
      "execution_count": null,
      "outputs": [
        {
          "output_type": "stream",
          "name": "stdout",
          "text": [
            "uniue values of the target attribute (Approved): ['Yes' 'No']\n"
          ]
        }
      ]
    },
    {
      "cell_type": "code",
      "source": [
        "#Convert Categorical Columns using OneHot\n",
        "Data = pd.get_dummies(Data, columns=['history'])"
      ],
      "metadata": {
        "id": "Z6FvkbdOjrRw"
      },
      "execution_count": null,
      "outputs": []
    },
    {
      "cell_type": "code",
      "source": [
        "Data = pd.get_dummies(Data, columns=['Purpose'])"
      ],
      "metadata": {
        "id": "rVGZP0jFeK-h"
      },
      "execution_count": null,
      "outputs": []
    },
    {
      "cell_type": "code",
      "source": [
        "Data = pd.get_dummies(Data, columns=['sex'])"
      ],
      "metadata": {
        "id": "6-9Qi6VYeXmq"
      },
      "execution_count": null,
      "outputs": []
    },
    {
      "cell_type": "code",
      "source": [
        "Data = pd.get_dummies(Data, columns=['guarantors'])"
      ],
      "metadata": {
        "id": "_--9FXkFiyou"
      },
      "execution_count": null,
      "outputs": []
    },
    {
      "cell_type": "code",
      "source": [
        "Data = pd.get_dummies(Data, columns=['Property'])"
      ],
      "metadata": {
        "id": "9pNmHHtDjTEl"
      },
      "execution_count": null,
      "outputs": []
    },
    {
      "cell_type": "code",
      "source": [
        "Data = pd.get_dummies(Data, columns=['OtherInstallment'])"
      ],
      "metadata": {
        "id": "clehh2r9exaV"
      },
      "execution_count": null,
      "outputs": []
    },
    {
      "cell_type": "code",
      "source": [
        "Data"
      ],
      "metadata": {
        "id": "YzhP8oDKhkpg"
      },
      "execution_count": null,
      "outputs": []
    },
    {
      "cell_type": "code",
      "source": [
        "Data.dtypes"
      ],
      "metadata": {
        "id": "1lAt7Dxzj6ej"
      },
      "execution_count": null,
      "outputs": []
    },
    {
      "cell_type": "code",
      "source": [
        "#Split data into Test and Train\n",
        "from sklearn.model_selection import train_test_split\n",
        "\n",
        "all_y = Data['Approved_val']\n",
        "all_X = Data[['Duration', 'amount', 'Installment','residence', 'Age','ExistingCredits', 'liable','foreign_val', 'Savings_val', 'employment_val', 'Telephone_val', 'Job_val','Housing_val', 'Status_val',\n",
        "               'history_A30','history_A31', 'history_A32', 'history_A33', 'history_A34',\n",
        "               'Purpose_A40', 'Purpose_A41', 'Purpose_A410', 'Purpose_A42','Purpose_A43', 'Purpose_A44', 'Purpose_A45', 'Purpose_A46','Purpose_A48', 'Purpose_A49',\n",
        "               'sex_A91', 'sex_A92', 'sex_A93', 'sex_A94',\n",
        "               'Property_A121', 'Property_A122', 'Property_A123', 'Property_A124',\n",
        "              'OtherInstallment_A141','OtherInstallment_A142', 'OtherInstallment_A143']]\n",
        "\n",
        "# 80% training set and 20% test set\n",
        "train_X, test_X, train_y, test_y = train_test_split(all_X, all_y , test_size=0.2, random_state=42)\n",
        "\n",
        "print('length of train:', len(train_X))\n",
        "print('length of test:', len(test_X))"
      ],
      "metadata": {
        "id": "IJ5uKaSsxj2e"
      },
      "execution_count": null,
      "outputs": []
    },
    {
      "cell_type": "code",
      "source": [
        "from sklearn import tree\n",
        "tree1 = tree.DecisionTreeClassifier()\n",
        "tree1.fit(train_X, train_y)"
      ],
      "metadata": {
        "id": "jW4i5h1D2Bv2"
      },
      "execution_count": null,
      "outputs": []
    },
    {
      "cell_type": "code",
      "source": [
        "Predictions = tree1.predict(test_X)\n",
        "\n",
        "from sklearn.metrics import accuracy_score\n",
        "print(accuracy_score(test_y, Predictions))"
      ],
      "metadata": {
        "id": "r9GszcoW2Giu"
      },
      "execution_count": null,
      "outputs": []
    },
    {
      "cell_type": "code",
      "source": [
        "tree.plot_tree(tree1)"
      ],
      "metadata": {
        "id": "mcTZu3Gx2NMF"
      },
      "execution_count": null,
      "outputs": []
    },
    {
      "cell_type": "code",
      "source": [
        "from sklearn.metrics import confusion_matrix, precision_score, recall_score"
      ],
      "metadata": {
        "id": "RYfrijUJ1rt1"
      },
      "execution_count": null,
      "outputs": []
    },
    {
      "cell_type": "code",
      "source": [
        "#Building Confusion Matrix\n",
        "conf_matrix = confusion_matrix(Predictions, test_y, labels=[1, 0])\n",
        "True_Positive = conf_matrix[0, 0]\n",
        "False_Positive = conf_matrix[0, 1]\n",
        "False_Negative = conf_matrix[1, 0]\n",
        "True_Negative = conf_matrix[1, 1]\n",
        "print(\"True_Positive:\", True_Positive, \"False_Positive:\", False_Positive, \"False_Negative:\", False_Negative, \"True_Negative\", True_Negative)"
      ],
      "metadata": {
        "id": "JY13a3WZfXWs"
      },
      "execution_count": null,
      "outputs": []
    },
    {
      "cell_type": "code",
      "source": [
        "print('Precision Score: %.3f' % precision_score(test_y, Predictions))"
      ],
      "metadata": {
        "id": "INKsWqBuuW-G"
      },
      "execution_count": null,
      "outputs": []
    },
    {
      "cell_type": "code",
      "source": [
        "print('Recall Score: %.3f' % recall_score(test_y, Predictions))"
      ],
      "metadata": {
        "id": "wMqxLhz5vr9e"
      },
      "execution_count": null,
      "outputs": []
    },
    {
      "cell_type": "code",
      "source": [
        "print('Accuracy Score: %.3f' % accuracy_score(test_y, Predictions))"
      ],
      "metadata": {
        "id": "n1bt1108wICo"
      },
      "execution_count": null,
      "outputs": []
    }
  ]
}